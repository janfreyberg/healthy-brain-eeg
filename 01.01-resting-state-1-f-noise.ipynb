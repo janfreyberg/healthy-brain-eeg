{
 "cells": [
  {
   "cell_type": "markdown",
   "metadata": {},
   "source": [
    "# Resting state analysis"
   ]
  },
  {
   "cell_type": "code",
   "execution_count": 8,
   "metadata": {},
   "outputs": [],
   "source": [
    "import pickle\n",
    "from pathlib import Path\n",
    "import os\n",
    "\n",
    "import mne\n",
    "\n",
    "import numpy as np\n",
    "import scipy.stats\n",
    "\n",
    "import matplotlib as mpl\n",
    "import matplotlib.pyplot as plt\n",
    "try:\n",
    "    %matplotlib inline\n",
    "except:\n",
    "    pass\n",
    "\n",
    "import pandas as pd\n",
    "\n",
    "from tqdm import tqdm as tqdm\n"
   ]
  },
  {
   "cell_type": "markdown",
   "metadata": {},
   "source": [
    "## Take the raw data and frequency-transform it\n",
    "\n",
    "In this package I have already made scripts that effectively turn the CSV files into raw files using a generator function: `restraws()`. You can find that [here](data/processed/resting.py). It doesn't do anything other than: 1) load the data from CSV; 2) load the channel locations; 3) combine the two to make a neat [`Raw`](http://martinos.org/mne/dev/generated/mne.io.Raw.html) data with a proper montage, all zero-channels set as `bads`, and the subject's name in the info structure. The neat thing is that it does it _on each iteration_, so it loads the data one by one, and removes it from memory when the next one comes up.\n",
    "\n",
    "Here, I'm going to load that data, then average-ref it and do a time-frequency transform on it. This is already effectively preprocessed. The time-frequency data is saved to the data/interim/freqanalysis.\n",
    "\n",
    "Note that this step takes ages, and if you have already done it, your data should be in `data/interim/freqanalysis`. If that's the case, [skip to the next section.](#Load-the-data-back-from-pickle)"
   ]
  },
  {
   "cell_type": "code",
   "execution_count": null,
   "metadata": {},
   "outputs": [],
   "source": [
    "from data.preprocessed import resting\n",
    "\n",
    "for raw in resting.raws():\n",
    "    \n",
    "    # output names\n",
    "    psdfname = (Path('.') / 'data' / 'interim' / 'freqanalysis' /\n",
    "                ('rest-' + raw.info['subject_info'] + '.pickle'))\n",
    "    infofname = (Path('.') / 'data' / 'interim' / 'info' /\n",
    "                 ('rest-' + raw.info['subject_info'] + '.pickle'))\n",
    "    \n",
    "    # save the info structure to file (incl bads)\n",
    "    with open(infofname, 'wb+') as f:\n",
    "        pickle.dump(raw.info, f)\n",
    "\n",
    "    # if it exists already, skip\n",
    "    if os.path.isfile(psdfname): continue\n",
    "\n",
    "    # try cropping it; this will fail if less than 200s; so skip\n",
    "    try:\n",
    "        raw.crop(tmin=0, tmax=200)\n",
    "    except ValueError:\n",
    "        continue\n",
    "\n",
    "    # average reference\n",
    "    raw.set_eeg_reference()\n",
    "    raw.apply_proj()\n",
    "    \n",
    "    # do the time-frequency analysis\n",
    "    psd, freqs = mne.time_frequency.psd_multitaper(raw, fmin=1, fmax=30, n_jobs=4)\n",
    "    \n",
    "    # save TFR and Info to pickle\n",
    "    with open(psdfname, 'wb+') as f:\n",
    "        pickle.dump((freqs, psd), f)\n",
    "\n"
   ]
  },
  {
   "cell_type": "markdown",
   "metadata": {},
   "source": [
    "## Load the data back from pickle\n",
    "\n",
    "In `data/interim/freqanalysis` [another python script](data/interim/freqanalysis/__init__.py) sits that lets you load the data __back__ into memory via a generator. So here I do that, then fit the linear regression in semilog and loglog space."
   ]
  },
  {
   "cell_type": "code",
   "execution_count": 30,
   "metadata": {},
   "outputs": [],
   "source": [
    "from data.interim.freqanalysis import psds\n",
    "import scipy.stats\n",
    "\n",
    "alldata = []\n",
    "semilogslopes = []\n",
    "semilogintercepts = []\n",
    "pids = []\n",
    "\n",
    "for pid, freq, psd in psds():\n",
    "    \n",
    "    pids.append(pid)\n",
    "    \n",
    "    # identify the right frequency band\n",
    "    idx = ((freq > 4) & (freq < 7)) | ((freq > 14) & (freq < 24))\n",
    "    \n",
    "    # fit linear regression in semilog space\n",
    "    semilogfits = [scipy.stats.linregress(freq[idx], np.log10(psd.T[idx, sensor]))\n",
    "                      for sensor in range(psd.shape[0])]\n",
    "    \n",
    "    semilogfilter = [(fit.slope < 0) &\n",
    "                     (np.abs(fit.intercept - np.mean([f.intercept for f in semilogfits])) <\n",
    "                      3 * np.std([f.intercept for f in semilogfits]))\n",
    "                     for fit in semilogfits]\n",
    "    \n",
    "    loglogfits  = [scipy.stats.linregress(np.log10(freq[idx]), np.log10(psd.T[idx, sensor]))\n",
    "                      for sensor in range(psd.shape[0])]\n",
    "    \n",
    "    \n",
    "    # make numpy arrays with the relevant info\n",
    "    semilogslopes.append(np.mean([fit.slope for fit, filt in zip(semilogfits, semilogfilter) if filt]))\n",
    "    semilogintercepts.append(np.mean([fit.intercept for fit, filt in zip(semilogfits, semilogfilter) if filt]))\n",
    "\n",
    "semilogslopes = np.array(semilogslopes)\n",
    "semilogintercepts = np.array(semilogintercepts)\n",
    "\n",
    "alldata = pd.DataFrame({'semilogslopes': semilogslopes,\n",
    "                        'semilogintercepts': semilogintercepts},\n",
    "                       index=pids)\n"
   ]
  },
  {
   "cell_type": "markdown",
   "metadata": {},
   "source": [
    "## Load the phenotypic data & combine with data so far\n",
    "\n",
    "Since most of the stats analysis will be done in an R-notebook, we're going to merge the data we have so far and save it to csv so that we can then read it into R.\n",
    "\n",
    "The data will be saved to [`data/interim/csv/metrics-pheno.csv`](data/interim/csv/metrics-pheno.csv)"
   ]
  },
  {
   "cell_type": "code",
   "execution_count": 38,
   "metadata": {},
   "outputs": [],
   "source": [
    "from data import phenotypes\n",
    "\n",
    "phenotypes = phenotypes.set_index('EID')\n",
    "\n",
    "alldf = pd.DataFrame(alldata).join(phenotypes, how='inner')\n",
    "alldf.index.name = 'pid'\n",
    "\n",
    "# save to csv\n",
    "alldf.to_csv('data/interim/csv/metrics-pheno.csv')"
   ]
  },
  {
   "cell_type": "markdown",
   "metadata": {},
   "source": [
    "## Stats Analysis\n",
    "\n",
    "Here we're going to do some stats on this thing.\n"
   ]
  },
  {
   "cell_type": "code",
   "execution_count": 50,
   "metadata": {},
   "outputs": [],
   "source": [
    "# load the data from file\n",
    "alldf = pd.read_csv('data/interim/csv/metrics-pheno.csv')\n"
   ]
  },
  {
   "cell_type": "markdown",
   "metadata": {},
   "source": [
    "---\n",
    "\n",
    "### Correlations\n",
    "\n",
    "Simple correlations between age, slope and intercept"
   ]
  },
  {
   "cell_type": "code",
   "execution_count": 54,
   "metadata": {},
   "outputs": [
    {
     "name": "stdout",
     "output_type": "stream",
     "text": [
      "LinregressResult(slope=-0.069901807210851027, intercept=3.7853176823839196, rvalue=-0.51692053749096056, pvalue=4.6454619255008044e-15, stderr=0.0082266443861644702)\n",
      "LinregressResult(slope=0.0018916318243253081, intercept=-0.085969941896888238, rvalue=0.37894504011075753, pvalue=3.1433596619017633e-08, stderr=0.00032829652473793534)\n",
      "LinregressResult(slope=-13.995411675614438, intercept=2.1351099622073941, rvalue=-0.51663217024142305, pvalue=4.8388953746600994e-15, stderr=1.6483545838897606)\n"
     ]
    }
   ],
   "source": [
    "import scipy.stats\n",
    "\n",
    "print(scipy.stats.linregress(alldf['Age'], alldf['semilogintercepts']))\n",
    "print(scipy.stats.linregress(alldf['Age'], alldf['semilogslopes']))\n",
    "print(scipy.stats.linregress(alldf['semilogslopes'], alldf['semilogintercepts']))"
   ]
  },
  {
   "cell_type": "markdown",
   "metadata": {},
   "source": [
    "---\n",
    "\n",
    "### Mediation Check\n",
    "\n",
    "Is there a link between age and slope, and if so is it mediated by intercept?"
   ]
  },
  {
   "cell_type": "code",
   "execution_count": 49,
   "metadata": {},
   "outputs": [
    {
     "data": {
      "text/html": [
       "<div>\n",
       "<style>\n",
       "    .dataframe thead tr:only-child th {\n",
       "        text-align: right;\n",
       "    }\n",
       "\n",
       "    .dataframe thead th {\n",
       "        text-align: left;\n",
       "    }\n",
       "\n",
       "    .dataframe tbody tr th {\n",
       "        vertical-align: top;\n",
       "    }\n",
       "</style>\n",
       "<table border=\"1\" class=\"dataframe\">\n",
       "  <thead>\n",
       "    <tr style=\"text-align: right;\">\n",
       "      <th></th>\n",
       "      <th>Estimate</th>\n",
       "      <th>Lower CI bound</th>\n",
       "      <th>Upper CI bound</th>\n",
       "      <th>P-value</th>\n",
       "    </tr>\n",
       "  </thead>\n",
       "  <tbody>\n",
       "    <tr>\n",
       "      <th>ACME (control)</th>\n",
       "      <td>0.001154</td>\n",
       "      <td>-0.000169</td>\n",
       "      <td>0.002586</td>\n",
       "      <td>0.0824</td>\n",
       "    </tr>\n",
       "    <tr>\n",
       "      <th>ACME (treated)</th>\n",
       "      <td>0.001154</td>\n",
       "      <td>-0.000169</td>\n",
       "      <td>0.002586</td>\n",
       "      <td>0.0824</td>\n",
       "    </tr>\n",
       "    <tr>\n",
       "      <th>ADE (control)</th>\n",
       "      <td>0.000754</td>\n",
       "      <td>0.000002</td>\n",
       "      <td>0.001527</td>\n",
       "      <td>0.0500</td>\n",
       "    </tr>\n",
       "    <tr>\n",
       "      <th>ADE (treated)</th>\n",
       "      <td>0.000754</td>\n",
       "      <td>0.000002</td>\n",
       "      <td>0.001527</td>\n",
       "      <td>0.0500</td>\n",
       "    </tr>\n",
       "    <tr>\n",
       "      <th>Total effect</th>\n",
       "      <td>0.001908</td>\n",
       "      <td>0.000404</td>\n",
       "      <td>0.003386</td>\n",
       "      <td>0.0124</td>\n",
       "    </tr>\n",
       "    <tr>\n",
       "      <th>Prop. mediated (control)</th>\n",
       "      <td>0.594691</td>\n",
       "      <td>-0.152263</td>\n",
       "      <td>1.027467</td>\n",
       "      <td>0.0700</td>\n",
       "    </tr>\n",
       "    <tr>\n",
       "      <th>Prop. mediated (treated)</th>\n",
       "      <td>0.594691</td>\n",
       "      <td>-0.152263</td>\n",
       "      <td>1.027467</td>\n",
       "      <td>0.0700</td>\n",
       "    </tr>\n",
       "    <tr>\n",
       "      <th>ACME (average)</th>\n",
       "      <td>0.001154</td>\n",
       "      <td>-0.000169</td>\n",
       "      <td>0.002586</td>\n",
       "      <td>0.0824</td>\n",
       "    </tr>\n",
       "    <tr>\n",
       "      <th>ADE (average)</th>\n",
       "      <td>0.000754</td>\n",
       "      <td>0.000002</td>\n",
       "      <td>0.001527</td>\n",
       "      <td>0.0500</td>\n",
       "    </tr>\n",
       "    <tr>\n",
       "      <th>Prop. mediated (average)</th>\n",
       "      <td>0.594691</td>\n",
       "      <td>-0.152263</td>\n",
       "      <td>1.027467</td>\n",
       "      <td>0.0700</td>\n",
       "    </tr>\n",
       "  </tbody>\n",
       "</table>\n",
       "</div>"
      ],
      "text/plain": [
       "                          Estimate  Lower CI bound  Upper CI bound  P-value\n",
       "ACME (control)            0.001154       -0.000169        0.002586   0.0824\n",
       "ACME (treated)            0.001154       -0.000169        0.002586   0.0824\n",
       "ADE (control)             0.000754        0.000002        0.001527   0.0500\n",
       "ADE (treated)             0.000754        0.000002        0.001527   0.0500\n",
       "Total effect              0.001908        0.000404        0.003386   0.0124\n",
       "Prop. mediated (control)  0.594691       -0.152263        1.027467   0.0700\n",
       "Prop. mediated (treated)  0.594691       -0.152263        1.027467   0.0700\n",
       "ACME (average)            0.001154       -0.000169        0.002586   0.0824\n",
       "ADE (average)             0.000754        0.000002        0.001527   0.0500\n",
       "Prop. mediated (average)  0.594691       -0.152263        1.027467   0.0700"
      ]
     },
     "execution_count": 49,
     "metadata": {},
     "output_type": "execute_result"
    }
   ],
   "source": [
    "import statsmodels.api as sm\n",
    "from statsmodels.stats.mediation import Mediation\n",
    "\n",
    "outcome_model = sm.GLM.from_formula(\"semilogslopes ~ Age + semilogintercepts\", alldf)\n",
    "\n",
    "mediator_model = sm.GLM.from_formula(\"semilogintercepts ~ Age\", alldf)\n",
    "\n",
    "mediation = Mediation(outcome_model, mediator_model, 'Age', 'semilogintercepts')\n",
    "\n",
    "results = mediation.fit(method='bootstrap', n_rep=1000)\n",
    "\n",
    "results.summary()"
   ]
  },
  {
   "cell_type": "markdown",
   "metadata": {},
   "source": []
  }
 ],
 "metadata": {
  "kernelspec": {
   "display_name": "Python 3",
   "language": "python",
   "name": "python3"
  },
  "language_info": {
   "codemirror_mode": {
    "name": "ipython",
    "version": 3
   },
   "file_extension": ".py",
   "mimetype": "text/x-python",
   "name": "python",
   "nbconvert_exporter": "python",
   "pygments_lexer": "ipython3",
   "version": "3.6.1"
  }
 },
 "nbformat": 4,
 "nbformat_minor": 2
}
